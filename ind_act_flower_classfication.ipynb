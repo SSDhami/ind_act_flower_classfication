{
 "cells": [
  {
   "cell_type": "code",
   "execution_count": 41,
   "id": "d4b3ce79",
   "metadata": {},
   "outputs": [
    {
     "data": {
      "text/html": [
       "<div>\n",
       "<style scoped>\n",
       "    .dataframe tbody tr th:only-of-type {\n",
       "        vertical-align: middle;\n",
       "    }\n",
       "\n",
       "    .dataframe tbody tr th {\n",
       "        vertical-align: top;\n",
       "    }\n",
       "\n",
       "    .dataframe thead th {\n",
       "        text-align: right;\n",
       "    }\n",
       "</style>\n",
       "<table border=\"1\" class=\"dataframe\">\n",
       "  <thead>\n",
       "    <tr style=\"text-align: right;\">\n",
       "      <th></th>\n",
       "      <th>5.1</th>\n",
       "      <th>3.5</th>\n",
       "      <th>1.4</th>\n",
       "      <th>0.2</th>\n",
       "      <th>Iris-setosa</th>\n",
       "    </tr>\n",
       "  </thead>\n",
       "  <tbody>\n",
       "    <tr>\n",
       "      <th>0</th>\n",
       "      <td>4.9</td>\n",
       "      <td>3.0</td>\n",
       "      <td>1.4</td>\n",
       "      <td>0.2</td>\n",
       "      <td>Iris-setosa</td>\n",
       "    </tr>\n",
       "    <tr>\n",
       "      <th>1</th>\n",
       "      <td>4.7</td>\n",
       "      <td>3.2</td>\n",
       "      <td>1.3</td>\n",
       "      <td>0.2</td>\n",
       "      <td>Iris-setosa</td>\n",
       "    </tr>\n",
       "    <tr>\n",
       "      <th>2</th>\n",
       "      <td>4.6</td>\n",
       "      <td>3.1</td>\n",
       "      <td>1.5</td>\n",
       "      <td>0.2</td>\n",
       "      <td>Iris-setosa</td>\n",
       "    </tr>\n",
       "    <tr>\n",
       "      <th>3</th>\n",
       "      <td>5.0</td>\n",
       "      <td>3.6</td>\n",
       "      <td>1.4</td>\n",
       "      <td>0.2</td>\n",
       "      <td>Iris-setosa</td>\n",
       "    </tr>\n",
       "    <tr>\n",
       "      <th>4</th>\n",
       "      <td>5.4</td>\n",
       "      <td>3.9</td>\n",
       "      <td>1.7</td>\n",
       "      <td>0.4</td>\n",
       "      <td>Iris-setosa</td>\n",
       "    </tr>\n",
       "    <tr>\n",
       "      <th>...</th>\n",
       "      <td>...</td>\n",
       "      <td>...</td>\n",
       "      <td>...</td>\n",
       "      <td>...</td>\n",
       "      <td>...</td>\n",
       "    </tr>\n",
       "    <tr>\n",
       "      <th>144</th>\n",
       "      <td>6.7</td>\n",
       "      <td>3.0</td>\n",
       "      <td>5.2</td>\n",
       "      <td>2.3</td>\n",
       "      <td>Iris-virginica</td>\n",
       "    </tr>\n",
       "    <tr>\n",
       "      <th>145</th>\n",
       "      <td>6.3</td>\n",
       "      <td>2.5</td>\n",
       "      <td>5.0</td>\n",
       "      <td>1.9</td>\n",
       "      <td>Iris-virginica</td>\n",
       "    </tr>\n",
       "    <tr>\n",
       "      <th>146</th>\n",
       "      <td>6.5</td>\n",
       "      <td>3.0</td>\n",
       "      <td>5.2</td>\n",
       "      <td>2.0</td>\n",
       "      <td>Iris-virginica</td>\n",
       "    </tr>\n",
       "    <tr>\n",
       "      <th>147</th>\n",
       "      <td>6.2</td>\n",
       "      <td>3.4</td>\n",
       "      <td>5.4</td>\n",
       "      <td>2.3</td>\n",
       "      <td>Iris-virginica</td>\n",
       "    </tr>\n",
       "    <tr>\n",
       "      <th>148</th>\n",
       "      <td>5.9</td>\n",
       "      <td>3.0</td>\n",
       "      <td>5.1</td>\n",
       "      <td>1.8</td>\n",
       "      <td>Iris-virginica</td>\n",
       "    </tr>\n",
       "  </tbody>\n",
       "</table>\n",
       "<p>149 rows × 5 columns</p>\n",
       "</div>"
      ],
      "text/plain": [
       "     5.1  3.5  1.4  0.2     Iris-setosa\n",
       "0    4.9  3.0  1.4  0.2     Iris-setosa\n",
       "1    4.7  3.2  1.3  0.2     Iris-setosa\n",
       "2    4.6  3.1  1.5  0.2     Iris-setosa\n",
       "3    5.0  3.6  1.4  0.2     Iris-setosa\n",
       "4    5.4  3.9  1.7  0.4     Iris-setosa\n",
       "..   ...  ...  ...  ...             ...\n",
       "144  6.7  3.0  5.2  2.3  Iris-virginica\n",
       "145  6.3  2.5  5.0  1.9  Iris-virginica\n",
       "146  6.5  3.0  5.2  2.0  Iris-virginica\n",
       "147  6.2  3.4  5.4  2.3  Iris-virginica\n",
       "148  5.9  3.0  5.1  1.8  Iris-virginica\n",
       "\n",
       "[149 rows x 5 columns]"
      ]
     },
     "execution_count": 41,
     "metadata": {},
     "output_type": "execute_result"
    }
   ],
   "source": [
    "#Read the dataset into a Pandas DataFrame!\n",
    "import pandas as pd\n",
    "import numpy as np\n",
    "import seaborn as sns\n",
    "import matplotlib.pyplot as plt\n",
    "from sklearn.preprocessing import LabelEncoder\n",
    "from sklearn.preprocessing import OneHotEncoder\n",
    "from sklearn.preprocessing import StandardScaler\n",
    "from scipy.io import arff\n",
    "from sklearn.model_selection import train_test_split\n",
    "from sklearn.neighbors import KNeighborsClassifier\n",
    "from sklearn.metrics import confusion_matrix\n",
    "from sklearn.metrics import precision_score\n",
    "from sklearn.metrics import recall_score\n",
    "from sklearn.svm import SVC\n",
    "from sklearn.tree import DecisionTreeClassifier\n",
    "from sklearn.ensemble import RandomForestClassifier\n",
    "from sklearn.linear_model import LogisticRegression\n",
    "from sklearn.naive_bayes import GaussianNB\n",
    "\n",
    "\n",
    "\n",
    "df = pd.read_csv(\"https://raw.githubusercontent.com/jbrownlee/Datasets/master/iris.csv\")\n",
    "df"
   ]
  },
  {
   "cell_type": "code",
   "execution_count": 42,
   "id": "66ab80b3",
   "metadata": {},
   "outputs": [
    {
     "data": {
      "text/html": [
       "<div>\n",
       "<style scoped>\n",
       "    .dataframe tbody tr th:only-of-type {\n",
       "        vertical-align: middle;\n",
       "    }\n",
       "\n",
       "    .dataframe tbody tr th {\n",
       "        vertical-align: top;\n",
       "    }\n",
       "\n",
       "    .dataframe thead th {\n",
       "        text-align: right;\n",
       "    }\n",
       "</style>\n",
       "<table border=\"1\" class=\"dataframe\">\n",
       "  <thead>\n",
       "    <tr style=\"text-align: right;\">\n",
       "      <th></th>\n",
       "      <th>sepal-length</th>\n",
       "      <th>sepal-width</th>\n",
       "      <th>petal-length</th>\n",
       "      <th>petal-width</th>\n",
       "      <th>class</th>\n",
       "    </tr>\n",
       "  </thead>\n",
       "  <tbody>\n",
       "    <tr>\n",
       "      <th>0</th>\n",
       "      <td>4.9</td>\n",
       "      <td>3.0</td>\n",
       "      <td>1.4</td>\n",
       "      <td>0.2</td>\n",
       "      <td>0</td>\n",
       "    </tr>\n",
       "    <tr>\n",
       "      <th>1</th>\n",
       "      <td>4.7</td>\n",
       "      <td>3.2</td>\n",
       "      <td>1.3</td>\n",
       "      <td>0.2</td>\n",
       "      <td>0</td>\n",
       "    </tr>\n",
       "    <tr>\n",
       "      <th>2</th>\n",
       "      <td>4.6</td>\n",
       "      <td>3.1</td>\n",
       "      <td>1.5</td>\n",
       "      <td>0.2</td>\n",
       "      <td>0</td>\n",
       "    </tr>\n",
       "    <tr>\n",
       "      <th>3</th>\n",
       "      <td>5.0</td>\n",
       "      <td>3.6</td>\n",
       "      <td>1.4</td>\n",
       "      <td>0.2</td>\n",
       "      <td>0</td>\n",
       "    </tr>\n",
       "    <tr>\n",
       "      <th>4</th>\n",
       "      <td>5.4</td>\n",
       "      <td>3.9</td>\n",
       "      <td>1.7</td>\n",
       "      <td>0.4</td>\n",
       "      <td>0</td>\n",
       "    </tr>\n",
       "    <tr>\n",
       "      <th>...</th>\n",
       "      <td>...</td>\n",
       "      <td>...</td>\n",
       "      <td>...</td>\n",
       "      <td>...</td>\n",
       "      <td>...</td>\n",
       "    </tr>\n",
       "    <tr>\n",
       "      <th>144</th>\n",
       "      <td>6.7</td>\n",
       "      <td>3.0</td>\n",
       "      <td>5.2</td>\n",
       "      <td>2.3</td>\n",
       "      <td>2</td>\n",
       "    </tr>\n",
       "    <tr>\n",
       "      <th>145</th>\n",
       "      <td>6.3</td>\n",
       "      <td>2.5</td>\n",
       "      <td>5.0</td>\n",
       "      <td>1.9</td>\n",
       "      <td>2</td>\n",
       "    </tr>\n",
       "    <tr>\n",
       "      <th>146</th>\n",
       "      <td>6.5</td>\n",
       "      <td>3.0</td>\n",
       "      <td>5.2</td>\n",
       "      <td>2.0</td>\n",
       "      <td>2</td>\n",
       "    </tr>\n",
       "    <tr>\n",
       "      <th>147</th>\n",
       "      <td>6.2</td>\n",
       "      <td>3.4</td>\n",
       "      <td>5.4</td>\n",
       "      <td>2.3</td>\n",
       "      <td>2</td>\n",
       "    </tr>\n",
       "    <tr>\n",
       "      <th>148</th>\n",
       "      <td>5.9</td>\n",
       "      <td>3.0</td>\n",
       "      <td>5.1</td>\n",
       "      <td>1.8</td>\n",
       "      <td>2</td>\n",
       "    </tr>\n",
       "  </tbody>\n",
       "</table>\n",
       "<p>149 rows × 5 columns</p>\n",
       "</div>"
      ],
      "text/plain": [
       "     sepal-length  sepal-width  petal-length  petal-width  class\n",
       "0             4.9          3.0           1.4          0.2      0\n",
       "1             4.7          3.2           1.3          0.2      0\n",
       "2             4.6          3.1           1.5          0.2      0\n",
       "3             5.0          3.6           1.4          0.2      0\n",
       "4             5.4          3.9           1.7          0.4      0\n",
       "..            ...          ...           ...          ...    ...\n",
       "144           6.7          3.0           5.2          2.3      2\n",
       "145           6.3          2.5           5.0          1.9      2\n",
       "146           6.5          3.0           5.2          2.0      2\n",
       "147           6.2          3.4           5.4          2.3      2\n",
       "148           5.9          3.0           5.1          1.8      2\n",
       "\n",
       "[149 rows x 5 columns]"
      ]
     },
     "execution_count": 42,
     "metadata": {},
     "output_type": "execute_result"
    }
   ],
   "source": [
    "#The dataset columns are not labeled but they are ordered in the following manner:\n",
    "#'sepal-length', 'sepal-width', 'petal-length', 'petal-width', 'class'\n",
    "\n",
    "columns_name = ['sepal-length', 'sepal-width', 'petal-length', 'petal-width', 'class']\n",
    "df.columns = columns_name\n",
    "\n",
    "\n",
    "\n",
    "#encoding\n",
    "\n",
    "df['class'] = LabelEncoder().fit_transform(df['class'].values)\n",
    "\n",
    "df"
   ]
  },
  {
   "cell_type": "code",
   "execution_count": 43,
   "id": "044e0c4c",
   "metadata": {},
   "outputs": [],
   "source": [
    "#Split Data\n",
    "#Create a validation dataset by splitting the loaded data into the following:\n",
    "#80% training data for preparing the models (X_train and Y_train)\n",
    "#20% as validation held back data from the models (X_test and Y_test)\n",
    "#The number of x_columns for this problem is four as we have four different features in our data. Set the random_state to 7.\n",
    "\n",
    "y = df[\"class\"].values\n",
    "X = df[df.columns.difference(['class'])].values\n",
    "\n",
    "X_train, X_test, y_train, y_test = train_test_split(X, y, test_size=0.20, random_state=7)\n"
   ]
  },
  {
   "cell_type": "markdown",
   "id": "b63c67cb",
   "metadata": {},
   "source": [
    "# LogisticRegression(solver='liblinear', multi_class='ovr')"
   ]
  },
  {
   "cell_type": "code",
   "execution_count": 44,
   "id": "a43fc3c3",
   "metadata": {},
   "outputs": [
    {
     "name": "stdout",
     "output_type": "stream",
     "text": [
      "KNN final accuracy score : 0.9\n",
      "KNN Confusion Matrix:\n",
      "[[ 7  0  0]\n",
      " [ 0 10  2]\n",
      " [ 0  1 10]]\n"
     ]
    }
   ],
   "source": [
    "lr_model = LogisticRegression(solver='liblinear', multi_class='ovr',random_state=0).fit(X_train, y_train)\n",
    "\n",
    "\n",
    "lr_pred= lr_model.predict(X_test)\n",
    "print(\"KNN final accuracy score :\",lr_model.score(X_test, y_test))\n",
    "\n",
    "\n",
    "#print the confusion matrix.\n",
    "print(\"KNN Confusion Matrix:\")\n",
    "print(confusion_matrix(y_test, lr_pred))"
   ]
  },
  {
   "cell_type": "markdown",
   "id": "ace4e08a",
   "metadata": {},
   "source": [
    "# K Neighbors Classifier model."
   ]
  },
  {
   "cell_type": "code",
   "execution_count": 45,
   "id": "3132aa68",
   "metadata": {},
   "outputs": [
    {
     "name": "stdout",
     "output_type": "stream",
     "text": [
      "best value of k is: 3\n",
      "KNN final accuracy score : 0.9333333333333333\n",
      "KNN Confusion Matrix:\n",
      "[[ 7  0  0]\n",
      " [ 0 11  1]\n",
      " [ 0  1 10]]\n"
     ]
    },
    {
     "data": {
      "image/png": "[encoded data removed]",
      "text/plain": [
       "<Figure size 640x480 with 1 Axes>"
      ]
     },
     "metadata": {},
     "output_type": "display_data"
    }
   ],
   "source": [
    "knn_accuracy = []\n",
    "\n",
    "\n",
    "for k in range(1,30):\n",
    "    model_temp1 = KNeighborsClassifier(n_neighbors=k,weights='distance',p=1).fit(X_train, y_train)\n",
    "    knn_accuracy.append(model_temp1.score(X_test, y_test))\n",
    "    \n",
    "\n",
    "\n",
    "plt.plot(knn_accuracy)\n",
    "plt.xlabel('K')\n",
    "plt.ylabel('value')\n",
    "\n",
    "\n",
    "best_k_value = knn_accuracy.index(max(accuracy))+1\n",
    "print(\"best value of k is:\",best_k_value)\n",
    "\n",
    "\n",
    "knn_model =  KNeighborsClassifier(n_neighbors=best_k_value,weights='distance',p=1).fit(X_train, y_train)\n",
    "knn_pred= knn_model.predict(X_test)\n",
    "print(\"KNN final accuracy score :\",knn_model.score(X_test, y_test))\n",
    "\n",
    "\n",
    "#print the confusion matrix.\n",
    "print(\"KNN Confusion Matrix:\")\n",
    "print(confusion_matrix(y_test, knn_pred))"
   ]
  },
  {
   "cell_type": "markdown",
   "id": "de2496d6",
   "metadata": {},
   "source": [
    "# Decision Tree Classifier."
   ]
  },
  {
   "cell_type": "code",
   "execution_count": 50,
   "id": "a0d33c7e",
   "metadata": {},
   "outputs": [
    {
     "name": "stdout",
     "output_type": "stream",
     "text": [
      "final accuracy score : 0.9333333333333333\n",
      "Confusion Matrix:\n",
      "[[ 7  0  0]\n",
      " [ 0 11  1]\n",
      " [ 0  1 10]]\n"
     ]
    }
   ],
   "source": [
    "dtc_accuracy_score = []\n",
    "\n",
    "#criterion_options = ['entropy','gini','log_loss']\n",
    "#for i in range(len(criterion_options)):\n",
    " #   model_temp2 = DecisionTreeClassifier(criterion=criterion_options[i],random_state=0).fit(X_train,y_train)\n",
    " #   dtc_accuracy_score.append(model_temp2.score(X_test, y_test))\n",
    "    \n",
    "    \n",
    "#print(\"all accuracy score :\",dtc_accuracy_score)    \n",
    "\n",
    "\n",
    "dtc_model = DecisionTreeClassifier(criterion='entropy',random_state=0).fit(X_train,y_train)\n",
    "dtc_pred= dtc_model.predict(X_test)\n",
    "\n",
    "\n",
    "print(\"final accuracy score :\",dtc_model.score(X_test, y_test))\n",
    "\n",
    "print(\"Confusion Matrix:\")\n",
    "print(confusion_matrix(y_test, dtc_pred))"
   ]
  },
  {
   "cell_type": "markdown",
   "id": "e1c76e25",
   "metadata": {},
   "source": [
    "# Random Forest Classifier."
   ]
  },
  {
   "cell_type": "code",
   "execution_count": 47,
   "id": "6f1ffd6b",
   "metadata": {},
   "outputs": [
    {
     "name": "stdout",
     "output_type": "stream",
     "text": [
      "best value of n is: 100\n",
      "final accuracy score : 0.9333333333333333\n",
      "Confusion Matrix:\n",
      "[[ 7  0  0]\n",
      " [ 0 11  1]\n",
      " [ 0  1 10]]\n"
     ]
    }
   ],
   "source": [
    "rfc_accuracy_score = []\n",
    "\n",
    "for i in range(1,4):\n",
    "    model_temp4 = RandomForestClassifier(criterion='entropy',random_state=0,n_estimators = i*100).fit(X_train, y_train)\n",
    "    rfc_accuracy_score.append(model_temp4.score(X_test, y_test))\n",
    "    \n",
    "\n",
    "best_n_estimator = (rfc_accuracy_score.index(max(rfc_accuracy_score))+1)*100\n",
    "print(\"best value of n is:\",best_n_estimator)\n",
    "\n",
    "\n",
    "rfc_model = RandomForestClassifier(criterion= 'entropy',random_state=1, n_estimators = best_n_estimator).fit(X_train,y_train)\n",
    "\n",
    "rfc_pred= rfc_model.predict(X_test)\n",
    " \n",
    "print(\"final accuracy score :\",rfc_model.score(X_test, y_test))\n",
    "\n",
    "print(\"Confusion Matrix:\")\n",
    "print(confusion_matrix(y_test, rfc_pred))"
   ]
  },
  {
   "cell_type": "markdown",
   "id": "18d321b5",
   "metadata": {},
   "source": [
    "# Support Vector Machines."
   ]
  },
  {
   "cell_type": "code",
   "execution_count": 48,
   "id": "d370b29a",
   "metadata": {},
   "outputs": [
    {
     "name": "stdout",
     "output_type": "stream",
     "text": [
      "best value of c is: 2\n",
      "SVC_accuracy: 0.9666666666666667\n",
      "SVC Confusion Matrix:\n",
      "[[ 7  0  0]\n",
      " [ 0 11  1]\n",
      " [ 0  0 11]]\n"
     ]
    }
   ],
   "source": [
    "SVC_accuracy=[]\n",
    "\n",
    "for c in range(1,5):\n",
    "    model_temp5 = SVC(kernel = \"linear\", C= c, gamma = \"auto\", random_state = 0).fit(X_train, y_train)\n",
    "    SVC_accuracy.append(model_temp5.score(X_test, y_test))\n",
    "    \n",
    "best_c_value = SVC_accuracy.index(max(SVC_accuracy))+1\n",
    "print(\"best value of c is:\",best_c_value)    \n",
    "    \n",
    "    \n",
    "svc_model = SVC(kernel = \"linear\", C= best_c_value, gamma = \"auto\", random_state = 0).fit(X_train,y_train)\n",
    "\n",
    "    \n",
    "print(\"SVC_accuracy:\",svc_model.score(X_test,y_test))\n",
    "    \n",
    "svc_pred = svc_model.predict(X_test)\n",
    "\n",
    "\n",
    "print(\"SVC Confusion Matrix:\")\n",
    "print(confusion_matrix(y_test, svc_pred))"
   ]
  },
  {
   "cell_type": "markdown",
   "id": "600bb523",
   "metadata": {},
   "source": [
    "# Gaussian Naive Bayes Classifier."
   ]
  },
  {
   "cell_type": "code",
   "execution_count": 49,
   "id": "3bd5795f",
   "metadata": {},
   "outputs": [
    {
     "name": "stdout",
     "output_type": "stream",
     "text": [
      "SVC_accuracy: 0.9666666666666667\n",
      "SVC Confusion Matrix:\n",
      "[[ 7  0  0]\n",
      " [ 0 11  1]\n",
      " [ 0  0 11]]\n"
     ]
    }
   ],
   "source": [
    "\n",
    "gnb_model = GaussianNB()\n",
    "\n",
    "print(\"SVC_accuracy:\",gnb_model.score(X_test,y_test))\n",
    "    \n",
    "gnb_pred = gnb_model.predict(X_test)\n",
    "print(\"SVC Confusion Matrix:\")\n",
    "print(confusion_matrix(y_test, gnb_pred)) \n"
   ]
  },
  {
   "cell_type": "code",
   "execution_count": 71,
   "id": "b1db4710",
   "metadata": {},
   "outputs": [
    {
     "name": "stdout",
     "output_type": "stream",
     "text": [
      "accuracy :  {'accuracy of LogisticRegression()': 0.9666666666666667, 'accuracy of KNeighborsClassifier()': 0.9333333333333333, 'accuracy of SVC()': 0.9333333333333333, 'accuracy of DecisionTreeClassifier()': 0.9333333333333333, 'accuracy of RandomForestClassifier()': 0.9333333333333333, 'accuracy of GaussianNB()': 0.9666666666666667}\n"
     ]
    }
   ],
   "source": [
    "#Place the models in a list. Iterate over the array of created models and train them using the training data split in step 2.\n",
    "#Compare Accuracy and Plot\n",
    "\n",
    "\n",
    "classifiers = [LogisticRegression(),KNeighborsClassifier(),SVC(),DecisionTreeClassifier(),RandomForestClassifier(),GaussianNB()]\n",
    "\n",
    "trained_models = {}\n",
    "accuracy = {}\n",
    "\n",
    "\n",
    "for item in classifiers:\n",
    "    model_temp = item.fit(X_train,y_train)\n",
    "    trained_models['model_'+str(item)] = model_temp\n",
    "    accuracy['accuracy of '+str(item)] =  model_temp.score(X_test,y_test)\n",
    "\n",
    "print(\"accuracy : \" , accuracy)"
   ]
  },
  {
   "cell_type": "code",
   "execution_count": 73,
   "id": "26b9bce5",
   "metadata": {},
   "outputs": [
    {
     "data": {
      "text/plain": [
       "Text(0, 0.5, 'accuracy')"
      ]
     },
     "execution_count": 73,
     "metadata": {},
     "output_type": "execute_result"
    },
    {
     "data": {
      "image/png": "[encoded data removed]",
      "text/plain": [
       "<Figure size 640x480 with 1 Axes>"
      ]
     },
     "metadata": {},
     "output_type": "display_data"
    }
   ],
   "source": [
    "#Calculate and print the accuracy of each of the models and plot the difference in a matplotlib figure titled “Algorithm Comparison”\n",
    "\n",
    "\n",
    "plt.bar(accuracy.keys(),accuracy.values())\n",
    "plt.title(\"Algorithm Comparison\")\n",
    "plt.xlabel('model')\n",
    "plt.xticks(rotation=90)\n",
    "plt.ylabel('accuracy')\n",
    "\n"
   ]
  },
  {
   "cell_type": "code",
   "execution_count": null,
   "id": "8d603c32",
   "metadata": {},
   "outputs": [],
   "source": []
  },
  {
   "cell_type": "code",
   "execution_count": null,
   "id": "890a4a17",
   "metadata": {},
   "outputs": [],
   "source": []
  },
  {
   "cell_type": "code",
   "execution_count": null,
   "id": "12440a7e",
   "metadata": {},
   "outputs": [],
   "source": []
  },
  {
   "cell_type": "code",
   "execution_count": null,
   "id": "fa1038be",
   "metadata": {},
   "outputs": [],
   "source": []
  },
  {
   "cell_type": "code",
   "execution_count": null,
   "id": "3e84a93e",
   "metadata": {},
   "outputs": [],
   "source": []
  },
  {
   "cell_type": "code",
   "execution_count": null,
   "id": "03d0b714",
   "metadata": {},
   "outputs": [],
   "source": []
  },
  {
   "cell_type": "code",
   "execution_count": null,
   "id": "b60f7f55",
   "metadata": {},
   "outputs": [],
   "source": []
  },
  {
   "cell_type": "code",
   "execution_count": null,
   "id": "fc168066",
   "metadata": {},
   "outputs": [],
   "source": []
  },
  {
   "cell_type": "code",
   "execution_count": null,
   "id": "68a656f1",
   "metadata": {},
   "outputs": [],
   "source": []
  },
  {
   "cell_type": "code",
   "execution_count": null,
   "id": "e11426fc",
   "metadata": {},
   "outputs": [],
   "source": []
  },
  {
   "cell_type": "code",
   "execution_count": null,
   "id": "6b39085e",
   "metadata": {},
   "outputs": [],
   "source": []
  },
  {
   "cell_type": "code",
   "execution_count": null,
   "id": "a63e5e07",
   "metadata": {},
   "outputs": [],
   "source": []
  }
 ],
 "metadata": {
  "kernelspec": {
   "display_name": "Python 3 (ipykernel)",
   "language": "python",
   "name": "python3"
  },
  "language_info": {
   "codemirror_mode": {
    "name": "ipython",
    "version": 3
   },
   "file_extension": ".py",
   "mimetype": "text/x-python",
   "name": "python",
   "nbconvert_exporter": "python",
   "pygments_lexer": "ipython3",
   "version": "3.11.5"
  }
 },
 "nbformat": 4,
 "nbformat_minor": 5
}
